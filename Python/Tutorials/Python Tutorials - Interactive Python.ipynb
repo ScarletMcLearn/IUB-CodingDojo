{
 "cells": [
  {
   "cell_type": "markdown",
   "metadata": {},
   "source": [
    "# The Python Programming Language¶\n",
    "\n",
    "The programming language you will be learning is Python. Python is an example of a high-level language; other high-level languages you might have heard of are C++, PHP, and Java.\n",
    "\n",
    "As you might infer from the name high-level language, there are also low-level languages, sometimes referred to as machine languages or assembly languages. Machine language is the encoding of instructions in binary so that they can be directly executed by the computer. Assembly language uses a slightly easier format to refer to the low level instructions. Loosely speaking, computers can only execute programs written in low-level languages. To be exact, computers can actually only execute programs written in machine language. Thus, programs written in a high-level language (and even those in assembly language) have to be processed before they can run. This extra processing takes some time, which is a small disadvantage of high-level languages. However, the advantages to high-level languages are enormous.\n",
    "\n",
    "First, it is much easier to program in a high-level language. Programs written in a high-level language take less time to write, they are shorter and easier to read, and they are more likely to be correct. Second, high-level languages are portable, meaning that they can run on different kinds of computers with few or no modifications. Low-level programs can run on only one kind of computer and have to be rewritten to run on another.\n",
    "\n",
    "Due to these advantages, almost all programs are written in high-level languages. Low-level languages are used only for a few specialized applications.\n",
    "\n",
    "Two kinds of programs process high-level languages into low-level languages: interpreters and compilers. An interpreter reads a high-level program and executes it, meaning that it does what the program says. It processes the program a little at a time, alternately reading lines and performing computations.\n",
    "\n",
    "![](http://interactivepython.org/runestone/static/thinkcspy/_images/interpret.png)\n",
    "\n",
    "A compiler reads the program and translates it completely before the program starts running. In this case, the high-level program is called the source code, and the translated program is called the object code or the executable. Once a program is compiled, you can execute it repeatedly without further translation. \t\n",
    "\n",
    "![](http://interactivepython.org/runestone/static/thinkcspy/_images/compile.png)\n",
    "\n",
    "Many modern languages use both processes. They are first compiled into a lower level language, called byte code, and then interpreted by a program called a virtual machine. Python uses both processes, but because of the way programmers interact with it, it is usually considered an interpreted language.\n",
    "\n",
    "There are two ways to use the Python interpreter: shell mode and program mode. In shell mode, you type Python expressions into the Python shell, and the interpreter immediately shows the result. The example below shows the Python shell at work.\n",
    "\n",
    "<pre>\n",
    "'''python\n",
    "$ python3\n",
    "Python 3.2 (r32:88445, Mar 25 2011, 19:28:28)\n",
    "[GCC 4.5.2] on linux2\n",
    "Type \"help\", \"copyright\", \"credits\" or \"license\" for more information.\n",
    ">>> 2 + 3\n",
    "5\n",
    ">>>\n",
    "'''\n",
    "\n",
    "</pre>\n",
    "\n",
    "\n",
    "The >>> is called the Python prompt. The interpreter uses the prompt to indicate that it is ready for instructions. We typed 2 + 3. The interpreter evaluated our expression and replied 5. On the next line it gave a new prompt indicating that it is ready for more input.\n",
    "\n",
    "Working directly in the interpreter is convenient for testing short bits of code because you get immediate feedback. Think of it as scratch paper used to help you work out problems.\n"
   ]
  },
  {
   "cell_type": "markdown",
   "metadata": {},
   "source": [
    "Alternatively, you can write an entire program by placing lines of Python instructions in a file and then use the interpreter to execute the contents of the file as a whole. Such a file is often referred to as source code. For example, we used a text editor to create a source code file named firstprogram.py with the following contents:"
   ]
  },
  {
   "cell_type": "code",
   "execution_count": 1,
   "metadata": {
    "collapsed": false
   },
   "outputs": [
    {
     "name": "stdout",
     "output_type": "stream",
     "text": [
      "My first program adds two numbers, 2 and 3:\n",
      "5\n"
     ]
    }
   ],
   "source": [
    "print(\"My first program adds two numbers, 2 and 3:\")\n",
    "print(2 + 3)"
   ]
  },
  {
   "cell_type": "markdown",
   "metadata": {},
   "source": [
    "By convention, files that contain Python programs have names that end with .py . Following this convention will help your operating system and other programs identify a file as containing python code."
   ]
  },
  {
   "cell_type": "markdown",
   "metadata": {},
   "source": [
    "<pre>\n",
    "'''python\n",
    "$ python firstprogram.py\n",
    "\n",
    "My first program adds two numbers, 2 and 3:\n",
    "5\n",
    "'''\n",
    "</pre>\n",
    "\n",
    "These examples show Python being run from a Unix command line. In other development environments, the details of executing programs may differ. Also, most programs are more interesting than this one.\n",
    "\n",
    "Want to learn more about Python?\n",
    "If you would like to learn more about installing and using Python, here are some video links. Installing Python for Windows shows you how to install the Python environment under Windows Vista, Installing Python for Mac shows you how to install under Mac OS/X, and Installing Python for Linux shows you how to install from the Linux command line. Using Python shows you some details about the Python shell and source code."
   ]
  },
  {
   "cell_type": "markdown",
   "metadata": {},
   "source": [
    "## Check your understanding\n",
    "\n",
    "1: Source code is another name for:\n",
    "(A) the instructions in a program, stored in a file.\n",
    "(B) the language that you are programming in (e.g., Python).\n",
    "(C) the environment/tool in which you are programming.\n",
    "(D) the number (or \"code\") that you must input at the top of each program to tell the computer how to execute your program.\n",
    "\n",
    "\n",
    "2: What is the difference between a high-level programming language and a low-level programming language?\n",
    "(A) It is high-level if you are standing and low-level if you are sitting.\n",
    "(B) It is high-level if you are programming for a computer and low-level if you are programming for a phone or mobile device.\n",
    "(C) It is high-level if the program must be processed before it can run, and low-level if the computer can execute it without additional processing.\n",
    "(D) It is high-level if it easy to program in and is very short; it is low-level if it is really hard to program in and the programs are really long.\n",
    "\n",
    "\n",
    "3: Pick the best replacements for 1 and 2 in the following sentence: When comparing compilers and interpreters, a compiler is like 1 while an interpreter is like 2.\n",
    "(A) 1 = a process, 2 = a function\n",
    "(B) 1 = translating an entire book, 2 = translating a line at a time\n",
    "(C) 1 = software, 2 = hardware\n",
    "(D) 1 = object code, 2 = byte code"
   ]
  },
  {
   "cell_type": "markdown",
   "metadata": {},
   "source": [
    "# Special Ways To Execute This Book\n",
    "\n",
    "This book provides two special ways to execute Python programs. Both techniques are designed to assist you as you learn the Python programming language. They will help you increase your understanding of how Python programs work.\n",
    "\n",
    "First, you can write, modify, and execute programs using a unique activecode interpreter that allows you to execute Python code right in the text itself (right from the web browser). Although this is certainly not the way real programs are written, it provides an excellent environment for learning a programming language like Python since you can experiment with the language as you are reading.\n",
    "\n",
    "Take a look at the activecode interpreter in action. If we use the Python code from the previous example and make it active, you will see that it can be executed directly by pressing the run button. Try pressing the run button below."
   ]
  },
  {
   "cell_type": "code",
   "execution_count": 2,
   "metadata": {
    "collapsed": false
   },
   "outputs": [
    {
     "name": "stdout",
     "output_type": "stream",
     "text": [
      "My first program adds two numbers, 2 and 3:\n",
      "5\n"
     ]
    }
   ],
   "source": [
    "print(\"My first program adds two numbers, 2 and 3:\")\n",
    "\n",
    "print(2 + 3)"
   ]
  },
  {
   "cell_type": "markdown",
   "metadata": {},
   "source": [
    "Now try modifying the activecode program shown above. First, modify the string in the first print statement by changing the word adds to the word multiplies. Now press run. You can see that the result of the program has changed. However, it still prints “5” as the answer. Modify the second print statement by changing the addition symbol, the “+”, to the multiplication symbol, “*”. Press run to see the new results.\n"
   ]
  },
  {
   "cell_type": "code",
   "execution_count": 3,
   "metadata": {
    "collapsed": false
   },
   "outputs": [
    {
     "name": "stdout",
     "output_type": "stream",
     "text": [
      "My first program adds two numbers, 2 and 3:\n",
      "5\n"
     ]
    }
   ],
   "source": [
    "print(\"My first program adds two numbers, 2 and 3:\")\n",
    "print(2 + 3)"
   ]
  },
  {
   "cell_type": "markdown",
   "metadata": {},
   "source": [
    "# More About Programs\n",
    "\n",
    "A program is a sequence of instructions that specifies how to perform a computation. The computation might be something as complex as rendering an html page in a web browser or encoding a video and streaming it across the network. It can also be a symbolic computation, such as searching for and replacing text in a document or (strangely enough) compiling a program.\n",
    "\n",
    "The details look different in different languages, but a few basic instructions appear in just about every language.\n",
    "\n",
    "**input**<br>\n",
    "Get data from the keyboard, a file, or some other device.\n",
    "\n",
    "**output**<br>\n",
    "Display data on the screen or send data to a file or other device.\n",
    "\n",
    "**math** and **logic**<br>\n",
    "Perform basic mathematical operations like addition and multiplication and logical operations like and, or, and not.\n",
    "conditional execution\n",
    "Check for certain conditions and execute the appropriate sequence of statements.\n",
    "\n",
    "**repetition**<br>\n",
    "Perform some action repeatedly, usually with some variation.\n",
    "Believe it or not, that’s pretty much all there is to it. Every program you’ve ever used, no matter how complicated, is made up of instructions that look more or less like these. Thus, we can describe programming as the process of breaking a large, complex task into smaller and smaller subtasks until the subtasks are simple enough to be performed with sequences of these basic instructions.\n"
   ]
  },
  {
   "cell_type": "markdown",
   "metadata": {},
   "source": [
    "## Check your understanding\n",
    "\n",
    "A program is:<br>\n",
    "(A) a sequence of instructions that specifies how to perform a computation. <br>\n",
    "(B) something you follow along at a play or concert.<br>\n",
    "(C) a computation, even a symbolic computation.<br>\n",
    "(D) the same thing as an algorithm.<br>\n"
   ]
  },
  {
   "cell_type": "markdown",
   "metadata": {},
   "source": [
    "## What is Debugging?\n",
    "\n",
    "Programming is a complex process. Since it is done by human beings, errors may often occur. Programming errors are called bugs and the process of tracking them down and correcting them is called debugging. Some claim that in 1945, a dead moth caused a problem on relay number 70, panel F, of one of the first computers at Harvard, and the term bug has remained in use since. For more about this historic event, see first bug.\n",
    "\n",
    "Three kinds of errors can occur in a program: syntax errors, runtime errors, and semantic errors. It is useful to distinguish between them in order to track them down more quickly."
   ]
  },
  {
   "cell_type": "markdown",
   "metadata": {},
   "source": [
    "## Check your understanding\n",
    "\n",
    "Debugging is: <br>\n",
    "(A) tracking down programming errors and correcting them.<br>\n",
    "(B) removing all the bugs from your house.<br>\n",
    "(C) finding all the bugs in the program.<br>\n",
    "(D) fixing the bugs in the program.<br>\n"
   ]
  },
  {
   "cell_type": "markdown",
   "metadata": {},
   "source": [
    "## Syntax errors\n",
    "Python can only execute a program if the program is syntactically correct; otherwise, the process fails and returns an error message. Syntax refers to the structure of a program and the rules about that structure. For example, in English, a sentence must begin with a capital letter and end with a period. this sentence contains a syntax error. So does this one\n",
    "\n",
    "For most readers, a few syntax errors are not a significant problem, which is why we can read the poetry of e. e. cummings without problems. Python is not so forgiving. If there is a single syntax error anywhere in your program, Python will display an error message and quit. You will not be able to complete the execution of your program. During the first few weeks of your programming career, you will probably spend a lot of time tracking down syntax errors. However, as you gain experience, you will make fewer errors and you will also be able to find your errors faster.\n",
    "\n",
    "## Check your understanding\n",
    "\n",
    "Which of the following is a syntax error?<br>\n",
    "(A) Attempting to divide by 0.<br>\n",
    "(B) Forgetting a colon at the end of a statement where one is required.<br>\n",
    "(C) Forgetting to divide by 100 when printing a percentage amount.<br>\n",
    "\n",
    "\n",
    "Who or what typically finds syntax errors?<br>\n",
    "(A) The programmer.<br>\n",
    "(B) The compiler / interpreter.<br>\n",
    "(C) The computer.<br>\n",
    "(D) The teacher / instructor. <br>"
   ]
  },
  {
   "cell_type": "markdown",
   "metadata": {},
   "source": [
    "## Runtime Errors\n",
    "The second type of error is a runtime error, so called because the error does not appear until you run the program. These errors are also called exceptions because they usually indicate that something exceptional (and bad) has happened.\n",
    "\n",
    "Runtime errors are rare in the simple programs you will see in the first few chapters, so it might be a while before you encounter one.\n"
   ]
  },
  {
   "cell_type": "markdown",
   "metadata": {},
   "source": [
    "## Check your understanding\n",
    "\n",
    "Which of the following is a run-time error? <br>\n",
    "(A) Attempting to divide by 0.<br>\n",
    "(B) Forgetting a colon at the end of a statement where one is required.<br>\n",
    "(C) Forgetting to divide by 100 when printing a percentage amount.<br>\n"
   ]
  },
  {
   "cell_type": "markdown",
   "metadata": {},
   "source": [
    "## Semantic Errors\n",
    "The third type of error is the semantic error. If there is a semantic error in your program, it will run successfully in the sense that the computer will not generate any error messages. However, your program will not do the right thing. It will do something else. Specifically, it will do what you told it to do.\n",
    "\n",
    "The problem is that the program you wrote is not the program you wanted to write. The meaning of the program (its semantics) is wrong. Identifying semantic errors can be tricky because it requires you to work backward by looking at the output of the program and trying to figure out what it is doing.\n"
   ]
  },
  {
   "cell_type": "markdown",
   "metadata": {},
   "source": [
    "## Check your understanding\n",
    "\n",
    "Which of the following is a semantic error?<br>\n",
    "(A) Attempting to divide by 0.<br>\n",
    "(B) Forgetting a semi-colon at the end of a statement where one is required.<br>\n",
    "(C) Forgetting to divide by 100 when printing a percentage amount.\n"
   ]
  },
  {
   "cell_type": "markdown",
   "metadata": {},
   "source": [
    "## Experimental Debugging\n",
    "One of the most important skills you will acquire is debugging. Although it can be frustrating, debugging is one of the most intellectually rich, challenging, and interesting parts of programming.\n",
    "\n",
    "In some ways, debugging is like detective work. You are confronted with clues, and you have to infer the processes and events that led to the results you see.\n",
    "\n",
    "Debugging is also like an experimental science. Once you have an idea what is going wrong, you modify your program and try again. If your hypothesis was correct, then you can predict the result of the modification, and you take a step closer to a working program. If your hypothesis was wrong, you have to come up with a new one. As Sherlock Holmes pointed out, When you have eliminated the impossible, whatever remains, however improbable, must be the truth. (A. Conan Doyle, The Sign of Four)\n",
    "\n",
    "For some people, programming and debugging are the same thing. That is, programming is the process of gradually debugging a program until it does what you want. The idea is that you should start with a program that does something and make small modifications, debugging them as you go, so that you always have a working program.\n",
    "\n",
    "For example, Linux is an operating system kernel that contains millions of lines of code, but it started out as a simple program Linus Torvalds used to explore the Intel 80386 chip. According to Larry Greenfield, one of Linus’s earlier projects was a program that would switch between displaying AAAA and BBBB. This later evolved to Linux (The Linux Users’ Guide Beta Version 1).\n",
    "\n",
    "Later chapters will make more suggestions about debugging and other programming practices.\n"
   ]
  },
  {
   "cell_type": "markdown",
   "metadata": {},
   "source": [
    "## Check your understanding\n",
    "\n",
    "The difference between programming and debugging is:<br>\n",
    "(A) programming is the process of writing and gradually debugging a program until it does what you want.<br>\n",
    "(B) programming is creative and debugging is routine.<br>\n",
    "(C) programming is fun and debugging is work.<br>\n",
    "(D) there is no difference between them.<br>"
   ]
  },
  {
   "cell_type": "markdown",
   "metadata": {},
   "source": [
    "## A Typical First Program\n",
    "\n",
    "Traditionally, the first program written in a new language is called Hello, World! because all it does is display the words, Hello, World! In Python, the source code looks like this."
   ]
  },
  {
   "cell_type": "code",
   "execution_count": 5,
   "metadata": {
    "collapsed": false
   },
   "outputs": [
    {
     "name": "stdout",
     "output_type": "stream",
     "text": [
      "Hello, World!\n"
     ]
    }
   ],
   "source": [
    "print(\"Hello, World!\")"
   ]
  },
  {
   "cell_type": "markdown",
   "metadata": {},
   "source": [
    "This is an example of using the print function, which doesn’t actually print anything on paper. It displays a value on the screen. In this case, the result is the phrase:\n",
    "\n",
    "<pre>\n",
    "Hello, World!\n",
    "</pre>\n"
   ]
  },
  {
   "cell_type": "markdown",
   "metadata": {},
   "source": [
    "Now you try printing something! "
   ]
  },
  {
   "cell_type": "code",
   "execution_count": 6,
   "metadata": {
    "collapsed": false
   },
   "outputs": [
    {
     "name": "stdout",
     "output_type": "stream",
     "text": [
      "Hello, World!\n"
     ]
    }
   ],
   "source": [
    "print(\"Hello, World!\")"
   ]
  },
  {
   "cell_type": "markdown",
   "metadata": {},
   "source": [
    "The quotation marks in the program mark the beginning and end of the value. They don’t appear in the result.\n",
    "\n",
    "Some people judge the quality of a programming language by the simplicity of the Hello, World! program. By this standard, Python does about as well as possible.\n"
   ]
  },
  {
   "cell_type": "markdown",
   "metadata": {},
   "source": [
    "## Check your understanding\n",
    "\n",
    "The print function:<br>\n",
    "(A) sends information to the printer to be printed on paper.\n",
    "(B) displays a value on the screen.<br>\n",
    "(C) tells the computer to put the information in print, rather than cursive, format.<br>\n",
    "(D) tells the computer to speak the information.<br>\n"
   ]
  },
  {
   "cell_type": "markdown",
   "metadata": {},
   "source": [
    "## Comments\n",
    "As programs get bigger and more complicated, they get more difficult to read. Formal languages are dense, and it is often difficult to look at a piece of code and figure out what it is doing, or why. For this reason, it is a good idea to add notes to your programs to explain in natural language what the program is doing. These notes are called comments.\n",
    "\n",
    "A comment in a computer program is text that is intended only for the human reader - it is completely ignored by the interpreter. In Python, the # token starts a comment. The rest of the line is ignored. Here is a new version of Hello, World!."
   ]
  },
  {
   "cell_type": "code",
   "execution_count": 7,
   "metadata": {
    "collapsed": false
   },
   "outputs": [
    {
     "name": "stdout",
     "output_type": "stream",
     "text": [
      "Hello, World!\n"
     ]
    }
   ],
   "source": [
    "#---------------------------------------------------\n",
    "# This demo program shows off how elegant Python is!\n",
    "# Written by Scarlet, June 11.\n",
    "# Anyone may freely copy or modify this program.\n",
    "#---------------------------------------------------\n",
    "\n",
    "print(\"Hello, World!\")     # Isn't this easy!\n"
   ]
  },
  {
   "cell_type": "markdown",
   "metadata": {},
   "source": [
    "Notice that when you run this program, it still only prints the phrase Hello, World! None of the comments appear. You’ll also notice that we’ve left a blank line in the program. Blank lines are also ignored by the interpreter, but comments and blank lines can make your programs much easier for humans to parse. Use them liberally!\n",
    "\n"
   ]
  },
  {
   "cell_type": "markdown",
   "metadata": {},
   "source": [
    "## Check your understanding\n",
    "\n",
    "What are comments for?<br>\n",
    "(A) To tell the computer what you mean in your program.<br>\n",
    "(B) For the people who are reading your code to know, in natural language, what the program is doing.<br>\n",
    "(C) Nothing, they are extraneous information that is not needed.<br>\n",
    "(D) Nothing in a short program. They are only needed for really large programs.<br>"
   ]
  },
  {
   "cell_type": "markdown",
   "metadata": {},
   "source": [
    "## Values and Data Types\n",
    "A value is one of the fundamental things — like a word or a number — that a program manipulates. The values we have seen so far are 5 (the result when we added 2 + 3), and \"Hello, World!\". We often refer to these values as objects and we will use the words value and object interchangeably.\n",
    "\n",
    "### Note\n",
    "Actually, the 2 and the 3 that are part of the addition above are values(objects) as well.\n",
    "These objects are classified into different classes, or data types: 4 is an integer, and \"Hello, World!\" is a string, so-called because it contains a string or sequence of letters. You (and the interpreter) can identify strings because they are enclosed in quotation marks.\n",
    "\n",
    "If you are not sure what class a value falls into, Python has a function called type which can tell you."
   ]
  },
  {
   "cell_type": "code",
   "execution_count": 8,
   "metadata": {
    "collapsed": false
   },
   "outputs": [
    {
     "name": "stdout",
     "output_type": "stream",
     "text": [
      "<class 'str'>\n",
      "<class 'int'>\n",
      "Hello, World\n"
     ]
    }
   ],
   "source": [
    "print(type(\"Hello, World!\"))\n",
    "print(type(17))\n",
    "print(\"Hello, World\")\n"
   ]
  },
  {
   "cell_type": "markdown",
   "metadata": {},
   "source": [
    "Not surprisingly, strings belong to the class str and integers belong to the class int.\n",
    "\n",
    "## Note\n",
    "When we show the value of a string using the print function, such as in the third example above, the quotes are no longer present. The value of the string is the sequence of characters inside the quotes. The quotes are only necessary to help Python know what the value is.\n",
    "In the Python shell, it is not necessary to use the print function to see the values shown above. The shell evaluates the Python function and automatically prints the result. For example, consider the shell session shown below. When we ask the shell to evaluate type(\"Hello, World!\"), it responds with the appropriate answer and then goes on to display the prompt for the next use.\n",
    "\n",
    "<pre>\n",
    "Python 3.1.2 (r312:79360M, Mar 24 2010, 01:33:18)\n",
    "[GCC 4.0.1 (Apple Inc. build 5493)] on darwin\n",
    "Type \"help\", \"copyright\", \"credits\" or \"license\" for more information.\n",
    ">>> type(\"Hello, World!\")\n",
    "<class 'str'>\n",
    ">>> type(17)\n",
    "<class 'int'>\n",
    ">>> \"Hello, World\"\n",
    "'Hello, World'\n",
    ">>>\n",
    "</pre>\n",
    "\n",
    "> Note that in the last example, we simply ask the shell to evaluate the string “Hello, World”. The result is as you might expect, the string itself.\n",
    "\n",
    "Continuing with our discussion of data types, numbers with a decimal point belong to a class called float, because these numbers are represented in a format called floating-point. At this stage, you can treat the words class and type interchangeably. We’ll come back to a deeper understanding of what a class is in later chapters."
   ]
  },
  {
   "cell_type": "code",
   "execution_count": 9,
   "metadata": {
    "collapsed": false
   },
   "outputs": [
    {
     "name": "stdout",
     "output_type": "stream",
     "text": [
      "<class 'float'>\n"
     ]
    }
   ],
   "source": [
    "print(type(3.2))\n"
   ]
  },
  {
   "cell_type": "markdown",
   "metadata": {},
   "source": [
    "What about values like \"17\" and \"3.2\"? They look like numbers, but they are in quotation marks like strings."
   ]
  },
  {
   "cell_type": "code",
   "execution_count": 10,
   "metadata": {
    "collapsed": false
   },
   "outputs": [
    {
     "name": "stdout",
     "output_type": "stream",
     "text": [
      "<class 'str'>\n",
      "<class 'str'>\n"
     ]
    }
   ],
   "source": [
    "print(type(\"17\"))\n",
    "print(type(\"3.2\"))\n"
   ]
  },
  {
   "cell_type": "markdown",
   "metadata": {},
   "source": [
    "They’re strings!\n",
    "\n",
    "Strings in Python can be enclosed in either single quotes (') or double quotes (\"), or three of each (''' or \"\"\")"
   ]
  },
  {
   "cell_type": "code",
   "execution_count": 11,
   "metadata": {
    "collapsed": false
   },
   "outputs": [
    {
     "name": "stdout",
     "output_type": "stream",
     "text": [
      "<class 'str'>\n",
      "<class 'str'>\n",
      "<class 'str'>\n",
      "<class 'str'>\n"
     ]
    }
   ],
   "source": [
    "print(type('This is a string.') )\n",
    "print(type(\"And so is this.\") )\n",
    "print(type(\"\"\"and this.\"\"\") )\n",
    "print(type('''and even this...''') )\n"
   ]
  },
  {
   "cell_type": "markdown",
   "metadata": {},
   "source": [
    "Double quoted strings can contain single quotes inside them, as in \"Bruce's beard\", and single quoted strings can have double quotes inside them, as in 'The knights who say \"Ni!\"'. Strings enclosed with three occurrences of either quote symbol are called triple quoted strings. They can contain either single or double quotes:\n",
    "\n",
    "\n"
   ]
  },
  {
   "cell_type": "code",
   "execution_count": 12,
   "metadata": {
    "collapsed": false
   },
   "outputs": [
    {
     "name": "stdout",
     "output_type": "stream",
     "text": [
      "\"Oh no\", she exclaimed, \"Ben's bike is broken!\"\n"
     ]
    }
   ],
   "source": [
    "print('''\"Oh no\", she exclaimed, \"Ben's bike is broken!\"''')\n"
   ]
  },
  {
   "cell_type": "markdown",
   "metadata": {},
   "source": [
    "Triple quoted strings can even span multiple lines:"
   ]
  },
  {
   "cell_type": "code",
   "execution_count": 13,
   "metadata": {
    "collapsed": false
   },
   "outputs": [
    {
     "name": "stdout",
     "output_type": "stream",
     "text": [
      "This message will\n",
      "span several\n",
      "lines.\n",
      "This message will span\n",
      "several lines\n",
      "of the text.\n"
     ]
    }
   ],
   "source": [
    "message = \"\"\"This message will\n",
    "span several\n",
    "lines.\"\"\"\n",
    "print(message)\n",
    "\n",
    "print(\"\"\"This message will span\n",
    "several lines\n",
    "of the text.\"\"\")\n"
   ]
  },
  {
   "cell_type": "markdown",
   "metadata": {},
   "source": [
    "Python doesn’t care whether you use single or double quotes or the three-of-a-kind quotes to surround your strings. Once it has parsed the text of your program or command, the way it stores the value is identical in all cases, and the surrounding quotes are not part of the value.\n",
    "\n"
   ]
  },
  {
   "cell_type": "code",
   "execution_count": 14,
   "metadata": {
    "collapsed": false
   },
   "outputs": [
    {
     "name": "stdout",
     "output_type": "stream",
     "text": [
      "This is a string.\n",
      "And so is this.\n"
     ]
    }
   ],
   "source": [
    "print('This is a string.')\n",
    "print(\"\"\"And so is this.\"\"\")\n"
   ]
  },
  {
   "cell_type": "markdown",
   "metadata": {},
   "source": [
    "So the Python language designers usually chose to surround their strings by single quotes. What do you think would happen if the string already contained single quotes?\n",
    "\n",
    "When you type a large integer, you might be tempted to use commas between groups of three digits, as in <pre>42,000</pre> This is not a legal integer in Python, but it does mean something else, which is legal:"
   ]
  },
  {
   "cell_type": "code",
   "execution_count": 16,
   "metadata": {
    "collapsed": false
   },
   "outputs": [
    {
     "name": "stdout",
     "output_type": "stream",
     "text": [
      "42000\n",
      "42 0\n"
     ]
    }
   ],
   "source": [
    "print(42000)\n",
    "print(42,000)\n"
   ]
  },
  {
   "cell_type": "markdown",
   "metadata": {},
   "source": [
    "Well, that’s not what we expected at all! Because of the comma, Python chose to treat this as a pair of values. In fact, the print function can print any number of values as long as you separate them by commas. Notice that the values are separated by spaces when they are displayed."
   ]
  },
  {
   "cell_type": "code",
   "execution_count": 17,
   "metadata": {
    "collapsed": false
   },
   "outputs": [
    {
     "name": "stdout",
     "output_type": "stream",
     "text": [
      "42 17 56 34 11 4.35 32\n",
      "3.4 hello 45\n"
     ]
    }
   ],
   "source": [
    "print(42, 17, 56, 34, 11, 4.35, 32)\n",
    "print(3.4, \"hello\", 45)\n"
   ]
  },
  {
   "cell_type": "markdown",
   "metadata": {},
   "source": [
    "Remember not to put commas or spaces in your integers, no matter how big they are. Also revisit what we said in the previous chapter: formal languages are strict, the notation is concise, and even the smallest change might mean something quite different from what you intended.\n",
    "\n"
   ]
  },
  {
   "cell_type": "markdown",
   "metadata": {},
   "source": [
    "## Check your understanding\n",
    "\n",
    "How can you determine the type of a variable?<br>\n",
    "(A) Print out the value and determine the data type based on the value printed.<br>\n",
    "(B) Use the type function.<br>\n",
    "(C) Use it in a known equation and print the result.<br>\n",
    "(D) Look at the declaration of the variable.<br>\n",
    "<br>\n",
    "What is the data type of ‘this is what kind of data’?<br>\n",
    "(A) Character<br>\n",
    "(B) Integer<br>\n",
    "(C) Float<br>\n",
    "(D) String<br>"
   ]
  },
  {
   "cell_type": "markdown",
   "metadata": {},
   "source": [
    "## Type conversion functions\n",
    "Sometimes it is necessary to convert values from one type to another. Python provides a few simple functions that will allow us to do that. The functions <pre>int</pre>, <pre>float</pre> and <pre>str</pre> will (attempt to) convert their arguments into types int, float and str respectively. We call these **type conversion** functions.\n",
    "\n",
    "The <pre>int()</pre> function can take a floating point number or a string, and turn it into an int. For floating point numbers, it discards the decimal portion of the number - a process we call truncation towards zero on the number line. Let us see this in action:\n",
    "\n",
    "\n"
   ]
  },
  {
   "cell_type": "code",
   "execution_count": 20,
   "metadata": {
    "collapsed": false
   },
   "outputs": [
    {
     "name": "stdout",
     "output_type": "stream",
     "text": [
      "3.14 3\n",
      "3.9999 3\n",
      "3.0 3\n",
      "-3.999 -3\n",
      "2345 2345\n",
      "17 17\n"
     ]
    },
    {
     "ename": "ValueError",
     "evalue": "invalid literal for int() with base 10: '23bottles'",
     "output_type": "error",
     "traceback": [
      "\u001b[0;31m---------------------------------------------------------------------------\u001b[0m",
      "\u001b[0;31mValueError\u001b[0m                                Traceback (most recent call last)",
      "\u001b[0;32m<ipython-input-20-701d3ebed0a3>\u001b[0m in \u001b[0;36m<module>\u001b[0;34m()\u001b[0m\n\u001b[1;32m      6\u001b[0m \u001b[0mprint\u001b[0m\u001b[0;34m(\u001b[0m\u001b[0;34m\"2345\"\u001b[0m\u001b[0;34m,\u001b[0m \u001b[0mint\u001b[0m\u001b[0;34m(\u001b[0m\u001b[0;34m\"2345\"\u001b[0m\u001b[0;34m)\u001b[0m\u001b[0;34m)\u001b[0m        \u001b[0;31m# parse a string to produce an int\u001b[0m\u001b[0;34m\u001b[0m\u001b[0m\n\u001b[1;32m      7\u001b[0m \u001b[0mprint\u001b[0m\u001b[0;34m(\u001b[0m\u001b[0;36m17\u001b[0m\u001b[0;34m,\u001b[0m \u001b[0mint\u001b[0m\u001b[0;34m(\u001b[0m\u001b[0;36m17\u001b[0m\u001b[0;34m)\u001b[0m\u001b[0;34m)\u001b[0m                \u001b[0;31m# int even works on integers\u001b[0m\u001b[0;34m\u001b[0m\u001b[0m\n\u001b[0;32m----> 8\u001b[0;31m \u001b[0mprint\u001b[0m\u001b[0;34m(\u001b[0m\u001b[0mint\u001b[0m\u001b[0;34m(\u001b[0m\u001b[0;34m\"23bottles\"\u001b[0m\u001b[0;34m)\u001b[0m\u001b[0;34m)\u001b[0m\u001b[0;34m\u001b[0m\u001b[0m\n\u001b[0m",
      "\u001b[0;31mValueError\u001b[0m: invalid literal for int() with base 10: '23bottles'"
     ]
    }
   ],
   "source": [
    "print(3.14, int(3.14))\n",
    "print(3.9999, int(3.9999))       # This doesn't round to the closest int!\n",
    "print(3.0, int(3.0))\n",
    "print(-3.999, int(-3.999))        # Note that the result is closer to zero\n",
    "\n",
    "print(\"2345\", int(\"2345\"))        # parse a string to produce an int\n",
    "print(17, int(17))                # int even works on integers\n",
    "print(int(\"23bottles\"))\n"
   ]
  },
  {
   "cell_type": "markdown",
   "metadata": {},
   "source": [
    "### Error\n",
    "#### ValueError: \n",
    "invalid literal for int() with base 10: '23bottles' on line 8\n",
    "\n",
    "#### Description\n",
    "A ValueError most often occurs when you pass a parameter to a function and the function is expecting one type and you pass another.\n",
    "\n",
    "#### To Fix\n",
    "The error message gives you a pretty good hint about the name of the function as well as the value that is incorrect. Look at the error message closely and then trace back to the variable containing the problematic value."
   ]
  },
  {
   "cell_type": "markdown",
   "metadata": {},
   "source": [
    "The last case shows that a string has to be a syntactically legal number, otherwise you’ll get one of those pesky runtime errors. Modify the example by deleting the <pre>bottles</pre> and rerun the program. You should see the integer <pre>23</pre>\n",
    "\n",
    "The type converter <pre>float</pre> can turn an integer, a float, or a syntactically legal string into a float."
   ]
  },
  {
   "cell_type": "code",
   "execution_count": 21,
   "metadata": {
    "collapsed": false
   },
   "outputs": [
    {
     "name": "stdout",
     "output_type": "stream",
     "text": [
      "123.45\n",
      "<class 'float'>\n"
     ]
    }
   ],
   "source": [
    "print(float(\"123.45\"))\n",
    "print(type(float(\"123.45\")))\n"
   ]
  },
  {
   "cell_type": "markdown",
   "metadata": {},
   "source": [
    "The type converter <pre>str</pre> turns its argument into a string. Remember that when we print a string, the quotes are removed. However, if we print the type, we can see that it is definitely str.\n",
    "\n",
    "\n"
   ]
  },
  {
   "cell_type": "code",
   "execution_count": 22,
   "metadata": {
    "collapsed": false
   },
   "outputs": [
    {
     "name": "stdout",
     "output_type": "stream",
     "text": [
      "17\n",
      "123.45\n",
      "<class 'str'>\n"
     ]
    }
   ],
   "source": [
    "print(str(17))\n",
    "print(str(123.45))\n",
    "print(type(str(123.45)))"
   ]
  },
  {
   "cell_type": "markdown",
   "metadata": {},
   "source": [
    "## Check your understanding\n",
    "\n",
    "What value is printed when the following statement executes?\n",
    "\n",
    "<pre>print( int(53.785) )</pre>\n",
    "(A) Nothing is printed. It generates a runtime error.<br>\n",
    "(B) 53<br>\n",
    "(C) 54<br>\n",
    "(D) 53.785<br>"
   ]
  },
  {
   "cell_type": "markdown",
   "metadata": {},
   "source": [
    "## Variables\n",
    "\n",
    "One of the most powerful features of a programming language is the ability to manipulate variables. A variable is a name that refers to a value.\n",
    "\n",
    "**Assignment statements** create new variables and also give them values to refer to."
   ]
  },
  {
   "cell_type": "code",
   "execution_count": 23,
   "metadata": {
    "collapsed": true
   },
   "outputs": [],
   "source": [
    "message = \"What's up, Doc?\"\n",
    "n = 17\n",
    "pi = 3.14159"
   ]
  },
  {
   "cell_type": "markdown",
   "metadata": {},
   "source": [
    "***marked codecolor***\n",
    "\n",
    "This example makes three assignments. The first assigns the string value \"What's up, Doc?\" to a new variable named message. The second gives the integer 17 to n, and the third assigns the floating-point number 3.14159 to a variable called pi.\n",
    "\n",
    "The assignment token, =, should not be confused with equality (we will see later that equality uses the == token). The assignment statement links a name, on the left hand side of the operator, with a value, on the right hand side. This is why you will get an error if you enter:"
   ]
  },
  {
   "cell_type": "markdown",
   "metadata": {},
   "source": [
    "17 = n\n",
    "\n",
    "> **Tip**<br>\n",
    "When reading or writing code, say to yourself “n is assigned 17” or “n gets the value 17” or “n is a reference to the object 17” or “n refers to the object 17”. Don’t say “n equals 17”.\n",
    "\n",
    "A common way to represent variables on paper is to write the name with an arrow pointing to the variable’s value. This kind of figure, known as a reference diagram, is often called a state snapshot because it shows what state each of the variables is in at a particular instant in time. (Think of it as the variable’s state of mind). This diagram shows the result of executing the assignment statements shown above.\n",
    "\n",
    "![](http://interactivepython.org/runestone/static/thinkcspy/_images/refdiagram1.png)\n",
    "\n",
    "If you ask Python to evaluate a variable, it will produce the value that is currently linked to the variable. In other words, evaluating a variable will give you the value that is referred to by the variable.\n",
    "\n",
    "If you ask Python to evaluate a variable, it will produce the value that is currently linked to the variable. In other words, evaluating a variable will give you the value that is referred to by the variable."
   ]
  },
  {
   "cell_type": "code",
   "execution_count": 25,
   "metadata": {
    "collapsed": false
   },
   "outputs": [
    {
     "name": "stdout",
     "output_type": "stream",
     "text": [
      "What's up, Doc?\n",
      "17\n",
      "3.14159\n"
     ]
    }
   ],
   "source": [
    "message = \"What's up, Doc?\"\n",
    "n = 17\n",
    "pi = 3.14159\n",
    "\n",
    "print(message)\n",
    "print(n)\n",
    "print(pi)\n"
   ]
  },
  {
   "cell_type": "markdown",
   "metadata": {},
   "source": [
    "Variables also have types; again, we can ask the interpreter what they are."
   ]
  },
  {
   "cell_type": "code",
   "execution_count": 26,
   "metadata": {
    "collapsed": false
   },
   "outputs": [
    {
     "name": "stdout",
     "output_type": "stream",
     "text": [
      "<class 'str'>\n",
      "<class 'int'>\n",
      "<class 'float'>\n"
     ]
    }
   ],
   "source": [
    "message = \"What's up, Doc?\"\n",
    "n = 17\n",
    "pi = 3.14159\n",
    "\n",
    "print(type(message))\n",
    "print(type(n))\n",
    "print(type(pi))\n"
   ]
  },
  {
   "cell_type": "markdown",
   "metadata": {},
   "source": [
    "The type of a variable is the type of the object it currently refers to.\n",
    "\n",
    "We use variables in a program to “remember” things, like the current score at the football game. But variables are variable. This means they can change over time, just like the scoreboard at a football game. You can assign a value to a variable, and later assign a different value to the same variable.\n",
    "\n",
    "> **Note**\n",
    "This is different from math. In math, if you give x the value 3, it cannot change to refer to a different value half-way through your calculations!\n",
    "\n",
    "To see this, read and then run the following program. You’ll notice we change the value of day three times, and on the third assignment we even give it a value that is of a different type."
   ]
  },
  {
   "cell_type": "code",
   "execution_count": 27,
   "metadata": {
    "collapsed": false
   },
   "outputs": [
    {
     "name": "stdout",
     "output_type": "stream",
     "text": [
      "Thursday\n",
      "Friday\n",
      "21\n"
     ]
    }
   ],
   "source": [
    "day = \"Thursday\"\n",
    "print(day)\n",
    "day = \"Friday\"\n",
    "print(day)\n",
    "day = 21\n",
    "print(day)"
   ]
  },
  {
   "cell_type": "markdown",
   "metadata": {},
   "source": [
    "A great deal of programming is about having the computer remember things. For example, we might want to keep track of the number of missed calls on your phone. Each time another call is missed, we will arrange to update or change the variable so that it will always reflect the correct value.\n",
    "\n",
    "## Check your understanding\n",
    "\n",
    "What is printed when the following statements execute?<br>\n",
    "day = \"Thursday\"<br>\n",
    "day = 32.5<br>\n",
    "day = 19<br>\n",
    "print(day)<br><br>\n",
    "(A) Nothing is printed. A runtime error occurs.<br>\n",
    "(B) Thursday<br>\n",
    "(C) 32.5<br>\n",
    "(D) 19<br>"
   ]
  },
  {
   "cell_type": "markdown",
   "metadata": {},
   "source": [
    "## Variable Names and Keywords\n",
    "Variable names can be arbitrarily long. They can contain both letters and digits, but they have to begin with a letter or an underscore. Although it is legal to use uppercase letters, by convention we don’t. If you do, remember that case matters. Bruce and bruce are different variables.\n",
    "\n",
    "> Caution\n",
    "Variable names can never contain spaces.\n",
    "\n",
    "The underscore character ( _) can also appear in a name. It is often used in names with multiple words, such as my_name or price_of_tea_in_china. There are some situations in which names beginning with an underscore have special meaning, so a safe rule for beginners is to start all names with a letter.\n",
    "\n",
    "If you give a variable an illegal name, you get a syntax error. In the example below, each of the variable names is illegal.\n",
    "\n"
   ]
  },
  {
   "cell_type": "code",
   "execution_count": 28,
   "metadata": {
    "collapsed": false
   },
   "outputs": [
    {
     "ename": "SyntaxError",
     "evalue": "invalid syntax (<ipython-input-28-f6adc31ec82a>, line 1)",
     "output_type": "error",
     "traceback": [
      "\u001b[0;36m  File \u001b[0;32m\"<ipython-input-28-f6adc31ec82a>\"\u001b[0;36m, line \u001b[0;32m1\u001b[0m\n\u001b[0;31m    76trombones = \"big parade\"\u001b[0m\n\u001b[0m              ^\u001b[0m\n\u001b[0;31mSyntaxError\u001b[0m\u001b[0;31m:\u001b[0m invalid syntax\n"
     ]
    }
   ],
   "source": [
    "76trombones = \"big parade\"\n",
    "more$ = 1000000\n",
    "class = \"Computer Science 101\""
   ]
  },
  {
   "cell_type": "markdown",
   "metadata": {},
   "source": [
    "76trombones is illegal because it does not begin with a letter. more$ is illegal because it contains an illegal character, the dollar sign. But what’s wrong with class?\n",
    "\n",
    "It turns out that class is one of the Python keywords. Keywords define the language’s syntax rules and structure, and they cannot be used as variable names. Python has thirty-something keywords (and every now and again improvements to Python introduce or eliminate one or two):\n",
    "\n",
    "and\tas\tassert\tbreak\tclass\tcontinue\n",
    "def\tdel\telif\telse\texcept\texec\n",
    "finally\tfor\tfrom\tglobal\tif\timport\n",
    "in\tis\tlambda\tnonlocal\tnot\tor\n",
    "pass\traise\treturn\ttry\twhile\twith\n",
    "yield\tTrue\tFalse\tNone\t \t\n",
    "\n",
    "\n",
    "You might want to keep this list handy. If the interpreter complains about one of your variable names and you don’t know why, see if it is on this list.\n",
    "\n",
    "Programmers generally choose names for their variables that are meaningful to the human readers of the program — they help the programmer document, or remember, what the variable is used for.\n",
    "\n",
    "Caution\n",
    "Beginners sometimes confuse “meaningful to the human readers” with “meaningful to the computer”. So they’ll wrongly think that because they’ve called some variable average or pi, it will somehow automagically calculate an average, or automagically associate the variable pi with the value 3.14159. No! The computer doesn’t attach semantic meaning to your variable names.\n",
    "\n",
    "So you’ll find some instructors who deliberately don’t choose meaningful names when they teach beginners — not because they don’t think it is a good habit, but because they’re trying to reinforce the message that you, the programmer, have to write some program code to calculate the average, or you must write an assignment statement to give a variable the value you want it to have.\n",
    "\n"
   ]
  },
  {
   "cell_type": "markdown",
   "metadata": {},
   "source": [
    "## Check your understanding\n",
    "\n",
    "True or False:<br> \n",
    "the following is a legal variable name in Python: <br>\n",
    "A_good_grade_is_A+<br>\n",
    "(A) True<br>\n",
    "(B) False<br>"
   ]
  },
  {
   "cell_type": "markdown",
   "metadata": {},
   "source": [
    "## Statements and Expressions\n",
    "\n",
    "A statement is an instruction that the Python interpreter can execute. We have only seen the assignment statement so far. Some other kinds of statements that we’ll see shortly are while statements, for statements, if statements, and import statements. (There are other kinds too!)\n",
    "\n",
    "An expression is a combination of values, variables, operators, and calls to functions. Expressions need to be evaluated. If you ask Python to print an expression, the interpreter evaluates the expression and displays the result."
   ]
  },
  {
   "cell_type": "code",
   "execution_count": 29,
   "metadata": {
    "collapsed": false
   },
   "outputs": [
    {
     "name": "stdout",
     "output_type": "stream",
     "text": [
      "2\n",
      "5\n"
     ]
    }
   ],
   "source": [
    "print(1 + 1)\n",
    "print(len(\"hello\"))\n"
   ]
  },
  {
   "cell_type": "markdown",
   "metadata": {},
   "source": [
    "In this example len is a built-in Python function that returns the number of characters in a string. We’ve previously seen the print and the type functions, so this is our third example of a function!\n",
    "\n",
    "The evaluation of an expression produces a value, which is why expressions can appear on the right hand side of assignment statements. A value all by itself is a simple expression, and so is a variable. Evaluating a variable gives the value that the variable refers to."
   ]
  },
  {
   "cell_type": "code",
   "execution_count": 30,
   "metadata": {
    "collapsed": false
   },
   "outputs": [
    {
     "name": "stdout",
     "output_type": "stream",
     "text": [
      "5\n",
      "3.14\n"
     ]
    }
   ],
   "source": [
    "y = 3.14\n",
    "x = len(\"hello\")\n",
    "print(x)\n",
    "print(y)\n"
   ]
  },
  {
   "cell_type": "markdown",
   "metadata": {},
   "source": [
    "If we take a look at this same example in the Python shell, we will see one of the distinct differences between statements and expressions.\n",
    "\n",
    "<pre>\n",
    "'''\n",
    ">>> y = 3.14\n",
    ">>> x = len(\"hello\")\n",
    ">>> print(x)\n",
    "5\n",
    ">>> print(y)\n",
    "3.14\n",
    ">>> y\n",
    "3.14\n",
    ">>>\n",
    "'''\n",
    "</pre>\n",
    "\n",
    "Note that when we enter the assignment statement, y = 3.14, only the prompt is returned. There is no value. This is due to the fact that statements, such as the assignment statement, do not return a value. They are simply executed.\n",
    "\n",
    "On the other hand, the result of executing the assignment statement is the creation of a reference from a variable, y, to a value, 3.14. When we execute the print function working on y, we see the value that y is referring to. In fact, evaluating y by itself results in the same response."
   ]
  },
  {
   "cell_type": "markdown",
   "metadata": {},
   "source": [
    "## Operators and Operands\n",
    "Operators are special tokens that represent computations like addition, multiplication and division. The values the operator works on are called operands.\n",
    "\n",
    "The following are all legal Python expressions whose meaning is more or less clear:\n",
    "\n",
    "<pre>\n",
    "'''\n",
    "20 + 32\n",
    "hour - 1\n",
    "hour * 60 + minute\n",
    "minute / 60\n",
    "5 ** 2\n",
    "(5 + 9) * (15 - 7)\n",
    "'''\n",
    "</pre>\n",
    "The tokens +, -, and *, and the use of parenthesis for grouping, mean in Python what they mean in mathematics. The asterisk (*) is the token for multiplication, and ** is the token for exponentiation. Addition, subtraction, multiplication, and exponentiation all do what you expect."
   ]
  },
  {
   "cell_type": "code",
   "execution_count": 31,
   "metadata": {
    "collapsed": false
   },
   "outputs": [
    {
     "name": "stdout",
     "output_type": "stream",
     "text": [
      "5\n",
      "-1\n",
      "6\n",
      "8\n",
      "9\n"
     ]
    }
   ],
   "source": [
    "print(2 + 3)\n",
    "print(2 - 3)\n",
    "print(2 * 3)\n",
    "print(2 ** 3)\n",
    "print(3 ** 2)\n"
   ]
  },
  {
   "cell_type": "markdown",
   "metadata": {},
   "source": [
    "When a variable name appears in the place of an operand, it is replaced with the value that it refers to before the operation is performed. For example, what if we wanted to convert 645 minutes into hours. In Python 3, division is denoted by the operator token / which always evaluates to a floating point result."
   ]
  },
  {
   "cell_type": "code",
   "execution_count": 32,
   "metadata": {
    "collapsed": false
   },
   "outputs": [
    {
     "name": "stdout",
     "output_type": "stream",
     "text": [
      "10.75\n"
     ]
    }
   ],
   "source": [
    "minutes = 645\n",
    "hours = minutes / 60\n",
    "print(hours)\n"
   ]
  },
  {
   "cell_type": "markdown",
   "metadata": {},
   "source": [
    "What if, on the other hand, we had wanted to know how many whole hours there are and how many minutes remain. To help answer this question, Python gives us a second flavor of the division operator. This version, called integer division, uses the token //. It always truncates its result down to the next smallest integer (to the left on the number line)."
   ]
  },
  {
   "cell_type": "code",
   "execution_count": 33,
   "metadata": {
    "collapsed": false
   },
   "outputs": [
    {
     "name": "stdout",
     "output_type": "stream",
     "text": [
      "1.75\n",
      "1\n",
      "10\n"
     ]
    }
   ],
   "source": [
    "print(7 / 4)\n",
    "print(7 // 4)\n",
    "minutes = 645\n",
    "hours = minutes // 60\n",
    "print(hours)\n"
   ]
  },
  {
   "cell_type": "markdown",
   "metadata": {},
   "source": [
    "Pay particular attention to the first two examples above. Notice that the result of floating point division is 1.75 but the result of the integer division is simply 1. Take care that you choose the correct flavor of the division operator. If you’re working with expressions where you need floating point values, use the division operator /. If you want an integer result, use //.\n",
    "\n",
    "The modulus operator, sometimes also called the remainder operator or integer remainder operator works on integers (and integer expressions) and yields the remainder when the first operand is divided by the second. In Python, the modulus operator is a percent sign (%). The syntax is the same as for other operators."
   ]
  },
  {
   "cell_type": "code",
   "execution_count": 34,
   "metadata": {
    "collapsed": false
   },
   "outputs": [
    {
     "name": "stdout",
     "output_type": "stream",
     "text": [
      "2\n",
      "1\n"
     ]
    }
   ],
   "source": [
    "quotient = 7 // 3     # This is the integer division operator\n",
    "print(quotient)\n",
    "remainder = 7 % 3\n",
    "print(remainder)\n"
   ]
  },
  {
   "cell_type": "markdown",
   "metadata": {},
   "source": [
    "In the above example, 7 divided by 3 is 2 when we use integer division and there is a remainder of 1.\n",
    "\n",
    "The modulus operator turns out to be surprisingly useful. For example, you can check whether one number is divisible by another—if x % y is zero, then x is divisible by y. Also, you can extract the right-most digit or digits from a number. For example, x % 10 yields the right-most digit of x (in base 10). Similarly x % 100 yields the last two digits.\n",
    "\n",
    "Finally, returning to our time example, the remainder operator is extremely useful for doing conversions, say from seconds, to hours, minutes and seconds. If we start with a number of seconds, say 7684, the following program uses integer division and remainder to convert to an easier form. Step through it to be sure you understand how the division and remainder operators are being used to compute the correct values."
   ]
  },
  {
   "cell_type": "markdown",
   "metadata": {},
   "source": [
    "## Check your understanding\n",
    "\n",
    "What value is printed when the following statement executes?\n",
    "\n",
    "print(18 / 4)<br>\n",
    "\n",
    "(A) 4.5<br>\n",
    "(B) 5<br>\n",
    "(C) 4<br>\n",
    "(D) 2<br>\n",
    "\n",
    "\n",
    "\n",
    "\n",
    "What value is printed when the following statement executes?\n",
    "print(18 // 4)<br>\n",
    "(A) 4.25<br>\n",
    "(B) 5<br>\n",
    "(C) 4<br>\n",
    "(D) 2<br>\n",
    "\n",
    "\n",
    "\n",
    "What value is printed when the following statement executes?\n",
    "print(18 % 4)<br>\n",
    "(A) 4.25<br>\n",
    "(B) 5<br>\n",
    "(C) 4<br>\n",
    "(D) 2<br>"
   ]
  },
  {
   "cell_type": "markdown",
   "metadata": {},
   "source": [
    "## Input\n",
    "\n",
    "The program in the previous section works fine but is very limited in that it only works with one value for total_secs. What if we wanted to rewrite the program so that it was more general. One thing we could do is allow the user to enter any value they wish for the number of seconds. The program could then print the proper result for that starting value.\n",
    "\n",
    "In order to do this, we need a way to get input from the user. Luckily, in Python there is a built-in function to accomplish this task. As you might expect, it is called input.\n",
    "\n",
    "<pre>n = input(\"Please enter your name: \")</pre>\n",
    "\n",
    "The input function allows the user to provide a prompt string. When the function is evaluated, the prompt is shown. The user of the program can enter the name and press return. When this happens the text that has been entered is returned from the input function, and in this case assigned to the variable n. Make sure you run this example a number of times and try some different names in the input box that appears.\n",
    "\n",
    "RunLoad HistoryShow CodeLens\n"
   ]
  },
  {
   "cell_type": "code",
   "execution_count": 35,
   "metadata": {
    "collapsed": false
   },
   "outputs": [
    {
     "name": "stdout",
     "output_type": "stream",
     "text": [
      "Please enter your name: sdfsd\n",
      "Hello sdfsd\n"
     ]
    }
   ],
   "source": [
    "n = input(\"Please enter your name: \")\n",
    "print(\"Hello\", n)\n"
   ]
  },
  {
   "cell_type": "markdown",
   "metadata": {},
   "source": [
    "It is very important to note that the input function returns a string value. Even if you asked the user to enter their age, you would get back a string like \"17\". It would be your job, as the programmer, to convert that string into an int or a float, using the int or float converter functions we saw earlier.\n",
    "\n",
    "To modify our previous program, we will add an input statement to allow the user to enter the number of seconds. Then we will convert that string to an integer. From there the process is the same as before. To complete the example, we will print some appropriate output.\n",
    "\n",
    "\n"
   ]
  },
  {
   "cell_type": "code",
   "execution_count": 36,
   "metadata": {
    "collapsed": false
   },
   "outputs": [
    {
     "name": "stdout",
     "output_type": "stream",
     "text": [
      "Please enter the number of seconds you wish to convert234\n",
      "Hrs= 0 mins= 3 secs= 54\n"
     ]
    }
   ],
   "source": [
    "str_seconds = input(\"Please enter the number of seconds you wish to convert\")\n",
    "total_secs = int(str_seconds)\n",
    "\n",
    "hours = total_secs // 3600\n",
    "secs_still_remaining = total_secs % 3600\n",
    "minutes =  secs_still_remaining // 60\n",
    "secs_finally_remaining = secs_still_remaining  % 60\n",
    "\n",
    "print(\"Hrs=\", hours, \"mins=\", minutes, \"secs=\", secs_finally_remaining)\n"
   ]
  },
  {
   "cell_type": "markdown",
   "metadata": {},
   "source": [
    "The variable str_seconds will refer to the string that is entered by the user. As we said above, even though this string may be 7684, it is still a string and not a number. To convert it to an integer, we use the int function. The result is referred to by total_secs. Now, each time you run the program, you can enter a new value for the number of seconds to be converted.\n",
    "\n",
    "## Check your understanding\n",
    "\n",
    "What is printed when the following statements execute?<br>\n",
    "<pre>\n",
    "''' \n",
    "n = input(\"Please enter your age: \")?<br>\n",
    "     ***user types in 18***\n",
    "print ( type(n) )\n",
    "'''\n",
    "</pre><br>\n",
    "(A) <class 'str'><br>\n",
    "(B) <class 'int'><br>\n",
    "(C) <class 18><br>\n",
    "(D) 18<br>"
   ]
  },
  {
   "cell_type": "markdown",
   "metadata": {},
   "source": [
    "## Order of Operations\n",
    "\n",
    "\n",
    "When more than one operator appears in an expression, the order of evaluation depends on the rules of precedence. Python follows the same precedence rules for its mathematical operators that mathematics does.\n",
    "\n",
    "Parentheses have the highest precedence and can be used to force an expression to evaluate in the order you want. Since expressions in parentheses are evaluated first, 2 * (3-1) is 4, and (1+1)\\**(5-2) is 8. \n",
    "\n",
    "You can also use parentheses to make an expression easier to read, as in (minute * 100) / 60, even though it doesn’t change the result.\n",
    "Exponentiation has the next highest precedence, so 2\\**1+1 is 3 and not 4, and 3*1\\**3 is 3 and not 27. Can you explain why?\n",
    "\n",
    "Multiplication and both division operators have the same precedence, which is higher than addition and subtraction, which also have the same precedence. So 2*3-1 yields 5 rather than 4, and 5-2*2 is 1, not 6.\n",
    "\n",
    "Operators with the same precedence are evaluated from left-to-right. In algebra we say they are left-associative. So in the expression 6-3+2, the subtraction happens first, yielding 3. We then add 2 to get the result 5. If the operations had been evaluated from right to left, the result would have been 6-(3+2), which is 1.\n",
    "\n",
    "> ***Note***\n",
    "Due to some historical quirk, an exception to the left-to-right left-associative rule is the exponentiation operator \\**. A useful hint is to always use parentheses to force exactly the order you want when exponentiation is involved:"
   ]
  },
  {
   "cell_type": "code",
   "execution_count": 37,
   "metadata": {
    "collapsed": false
   },
   "outputs": [
    {
     "name": "stdout",
     "output_type": "stream",
     "text": [
      "512\n",
      "64\n"
     ]
    }
   ],
   "source": [
    "print(2 ** 3 ** 2)     # the right-most ** operator gets done first!\n",
    "print((2 ** 3) ** 2)   # use parentheses to force the order you want!\n"
   ]
  },
  {
   "cell_type": "markdown",
   "metadata": {},
   "source": [
    "## Check your understanding\n",
    "\n",
    "What is the value of the following expression:<br>\n",
    "16 - 2 * 5 // 3 + 1<br>\n",
    "(A) 14<br>\n",
    "(B) 24<br>\n",
    "(C) 3<br>\n",
    "(D) 13.667<br>\n",
    "\n",
    " What is the value of the following expression:\n",
    "2 \\** 2 \\** 3 \\* 3<br>\n",
    "(A) 768<br>\n",
    "(B) 128<br>\n",
    "(C) 12<br>\n",
    "(D) 256<br>"
   ]
  },
  {
   "cell_type": "markdown",
   "metadata": {},
   "source": [
    "## Reassignment\n",
    "\n",
    "As we have mentioned previously, it is legal to make more than one assignment to the same variable. A new assignment makes an existing variable refer to a new value (and stop referring to the old value).\n",
    "\n"
   ]
  },
  {
   "cell_type": "code",
   "execution_count": 38,
   "metadata": {
    "collapsed": false
   },
   "outputs": [
    {
     "name": "stdout",
     "output_type": "stream",
     "text": [
      "5\n",
      "7\n"
     ]
    }
   ],
   "source": [
    "bruce = 5\n",
    "print(bruce)\n",
    "bruce = 7\n",
    "print(bruce)\n"
   ]
  },
  {
   "cell_type": "markdown",
   "metadata": {},
   "source": [
    "The first time bruce is printed, its value is 5, and the second time, its value is 7. The assignment statement changes the value (the object) that bruce refers to.\n",
    "\n",
    "Here is what reassignment looks like in a reference diagram:\n",
    "\n",
    "![](http://interactivepython.org/runestone/static/thinkcspy/_images/reassign1.png)\n",
    "\n",
    "It is important to note that in mathematics, a statement of equality is always true. If a is equal to b now, then a will always equal to b. In Python, an assignment statement can make two variables refer to the same object and therefore have the same value. They appear to be equal. However, because of the possibility of reassignment, they don’t have to stay that way:"
   ]
  },
  {
   "cell_type": "code",
   "execution_count": 39,
   "metadata": {
    "collapsed": false
   },
   "outputs": [
    {
     "name": "stdout",
     "output_type": "stream",
     "text": [
      "5 5\n",
      "3 5\n"
     ]
    }
   ],
   "source": [
    "a = 5\n",
    "b = a    # after executing this line, a and b are now equal\n",
    "print(a, b)\n",
    "a = 3    # after executing this line, a and b are no longer equal\n",
    "print(a, b)\n"
   ]
  },
  {
   "cell_type": "markdown",
   "metadata": {},
   "source": [
    "Line 4 changes the value of a but does not change the value of b, so they are no longer equal. We will have much more to say about equality in a later chapter.\n",
    "\n",
    "> **Note** <br>\n",
    "In some programming languages, a different symbol is used for assignment, such as <- or :=. The intent is that this will help to avoid confusion. Python chose to use the tokens = for assignment, and == for equality. This is a popular choice also found in languages like C, C++, Java, and C#.\n",
    "\n"
   ]
  },
  {
   "cell_type": "markdown",
   "metadata": {},
   "source": [
    "## Check your understanding\n",
    "\n",
    "After the following statements, what are the values of x and y?<br>\n",
    "x = 15<br>\n",
    "y = x<br>\n",
    "x = 22<br>\n",
    "(A) x is 15 and y is 15<br>\n",
    "(B) x is 22 and y is 22<br>\n",
    "(C) x is 15 and y is 22<br>\n",
    "(D) x is 22 and y is 15<br>"
   ]
  },
  {
   "cell_type": "markdown",
   "metadata": {},
   "source": [
    "## Updating Variables\n",
    "\n",
    "\n",
    "One of the most common forms of reassignment is an update where the new value of the variable depends on the old. For example,\n",
    "\n",
    "x = x + 1\n",
    "\n",
    "This means get the current value of x, add one, and then update x with the new value. The new value of x is the old value of x plus 1. Although this assignment statement may look a bit strange, remember that executing assignment is a two-step process. First, evaluate the right-hand side expression. Second, let the variable name on the left-hand side refer to this new resulting object. The fact that x appears on both sides does not matter. The semantics of the assignment statement makes sure that there is no confusion as to the result.\n",
    "\n"
   ]
  },
  {
   "cell_type": "code",
   "execution_count": 40,
   "metadata": {
    "collapsed": false
   },
   "outputs": [
    {
     "name": "stdout",
     "output_type": "stream",
     "text": [
      "6\n",
      "7\n"
     ]
    }
   ],
   "source": [
    "x = 6        # initialize x\n",
    "print(x)\n",
    "x = x + 1    # update x\n",
    "print(x)\n"
   ]
  },
  {
   "cell_type": "markdown",
   "metadata": {},
   "source": [
    "If you try to update a variable that doesn’t exist, you get an error because Python evaluates the expression on the right side of the assignment operator before it assigns the resulting value to the name on the left. Before you can update a variable, you have to initialize it, usually with a simple assignment. In the above example, x was initialized to 6.\n",
    "\n",
    "Updating a variable by adding 1 is called an increment; subtracting 1 is called a decrement. Sometimes programmers also talk about bumping a variable, which means the same as incrementing it by 1.\n",
    "\n"
   ]
  },
  {
   "cell_type": "markdown",
   "metadata": {},
   "source": [
    "## Check your understanding\n",
    "\n",
    "What is printed when the following statements execute?<br>\n",
    "x = 12<br>\n",
    "x = x - 1<br>\n",
    "print(x)<br>\n",
    "(A) 12<br>\n",
    "(B) -1<br>\n",
    "(C) 11<br>\n",
    "(D) Nothing. An error occurs because x can never be equal to x - 1.<br><br>\n",
    "\n",
    "What is printed when the following statements execute?<br>\n",
    "x = 12<br>\n",
    "x = x - 3<br>\n",
    "x = x + 5<br>\n",
    "x = x + 1<br>\n",
    "print(x)<br>\n",
    "(A) 12<br>\n",
    "(B) 9<br>\n",
    "(C) 15<br>\n",
    "(D) Nothing. An error occurs because x cannot be used that many times in assignment statements.<br>"
   ]
  },
  {
   "cell_type": "markdown",
   "metadata": {},
   "source": [
    "## Glossary\n",
    "**assignment statement**<br>\n",
    "A statement that assigns a value to a name (variable). To the left of the assignment operator, =, is a name. To the right of the assignment token is an expression which is evaluated by the Python interpreter and then assigned to the name. The difference between the left and right hand sides of the assignment statement is often confusing to new programmers. In the following assignment:\n",
    "\n",
    "<pre>n = n + 1</pre>\n",
    "n plays a very different role on each side of the =. On the right it is a value and makes up part of the expression which will be evaluated by the Python interpreter before assigning it to the name on the left.\n",
    "\n",
    "**assignment token**<br>\n",
    "= is Python’s assignment token, which should not be confused with the mathematical comparison operator using the same symbol.\n",
    "\n",
    "**class**<br>\n",
    "see data type below\n",
    "\n",
    "**comment**<br>\n",
    "Information in a program that is meant for other programmers (or anyone reading the source code) and has no effect on the execution of the program.\n",
    "\n",
    "**data type**<br>\n",
    "A set of values. The type of a value determines how it can be used in expressions. So far, the types you have seen are integers (int), floating-point numbers (float), and strings (str).\n",
    "\n",
    "**decrement**<br>\n",
    "Decrease by 1.\n",
    "\n",
    "**evaluate**<br>\n",
    "To simplify an expression by performing the operations in order to yield a single value.\n",
    "\n",
    "**expression**<br>\n",
    "A combination of operators and operands (variables and values) that represents a single result value. Expressions are evaluated to give that result.\n",
    "\n",
    "**float**<br>\n",
    "A Python data type which stores floating-point numbers. Floating-point numbers are stored internally in two parts: a base and an exponent. When printed in the standard format, they look like decimal numbers. Beware of rounding errors when you use floats, and remember that they are only approximate values.\n",
    "\n",
    "**increment**<br>\n",
    "Both as a noun and as a verb, increment means to increase by 1.\n",
    "initialization (of a variable)\n",
    "To initialize a variable is to give it an initial value. Since in Python variables don’t exist until they are assigned values, they are initialized when they are created. In other programming languages this is not the case, and variables can be created without being initialized, in which case they have either default or garbage values.\n",
    "\n",
    "**int**<br>\n",
    "A Python data type that holds positive and negative whole numbers.\n",
    "integer division\n",
    "An operation that divides one integer by another and yields an integer. Integer division yields only the whole number of times that the numerator is divisible by the denominator and discards any remainder.\n",
    "\n",
    "**keyword**<br>\n",
    "A reserved word that is used by the compiler to parse program; you cannot use keywords like if, def, and while as variable names.\n",
    "modulus operator\n",
    "Also called remainder operator or integer remainder operator. Gives the remainder after performing integer division.\n",
    "\n",
    "**object**<br>\n",
    "Also known as a data object (or data value). The fundamental things that programs are designed to manipulate (or that programmers ask to do things for them).\n",
    "\n",
    "**operand**<br>\n",
    "One of the values on which an operator operates.\n",
    "\n",
    "**operator**<br>\n",
    "A special symbol that represents a simple computation like addition, multiplication, or string concatenation.\n",
    "\n",
    "**prompt string**<br>\n",
    "Used during interactive input to provide the use with hints as to what type of value to enter.\n",
    "\n",
    "**reference diagram**<br>\n",
    "A picture showing a variable with an arrow pointing to the value (object) that the variable refers to. See also state snapshot.\n",
    "\n",
    "**rules of precedence**<br>\n",
    "The set of rules governing the order in which expressions involving multiple operators and operands are evaluated.\n",
    "\n",
    "**state snapshot**<br>\n",
    "A graphical representation of a set of variables and the values to which they refer, taken at a particular instant during the program’s execution.\n",
    "\n",
    "**statement**<br>\n",
    "An instruction that the Python interpreter can execute. So far we have only seen the assignment statement, but we will soon meet the import statement and the for statement.\n",
    "\n",
    "**str**<br>\n",
    "A Python data type that holds a string of characters.\n",
    "\n",
    "**type conversion function**<br>\n",
    "A function that can convert a data value from one type to another.\n",
    "\n",
    "**value**<br>\n",
    "A number or string (or other things to be named later) that can be stored in a variable or computed in an expression.\n",
    "\n",
    "**variable**<br>\n",
    "A name that refers to a value.\n",
    "\n",
    "**variable name**<br>\n",
    "A name given to a variable. Variable names in Python consist of a sequence of letters (a..z, A..Z, and _) and digits (0..9) that begins with a letter. In best programming practice, variable names should be chosen so that they describe their use in the program, making the program self documenting."
   ]
  },
  {
   "cell_type": "markdown",
   "metadata": {},
   "source": [
    "## Exercises\n",
    "\n",
    "Evaluate the following numerical expressions in your head, then use the active code window to check your results:\n",
    "<br>\n",
    "5 \\** 2<br>\n",
    "9 * 5<br>\n",
    "15 / 12<br>\n",
    "12 / 15<br>\n",
    "15 // 12<br>\n",
    "12 // 15<br>\n",
    "5 % 2<br>\n",
    "9 % 5<br>\n",
    "15 % 12<br>\n",
    "12 % 15<br>\n",
    "6 % 6<br>\n",
    "0 % 7<br>\n"
   ]
  },
  {
   "cell_type": "code",
   "execution_count": 41,
   "metadata": {
    "collapsed": false
   },
   "outputs": [
    {
     "name": "stdout",
     "output_type": "stream",
     "text": [
      "Test here!\n"
     ]
    }
   ],
   "source": [
    "print(\"Test here!\")"
   ]
  },
  {
   "cell_type": "markdown",
   "metadata": {},
   "source": [
    "What is the order of the arithmetic operations in the following expression. Evaluate the expression by hand and then check your work.\n",
    "2 + (3 - 1) * 10 / 5 * (2 + 3)"
   ]
  },
  {
   "cell_type": "markdown",
   "metadata": {},
   "source": [
    "Many people keep time using a 24 hour clock (11 is 11am and 23 is 11pm, 0 is midnight). If it is currently 13 and you set your alarm to go off in 50 hours, it will be 15 (3pm). Write a Python program to solve the general version of the above problem. Ask the user for the time now (in hours), and then ask for the number of hours to wait for the alarm. Your program should output what the time will be on the clock when the alarm goes off.\n",
    "\n",
    "\n",
    "\n",
    "It is possible to name the days 0 through 6 where day 0 is Sunday and day 6 is Saturday. If you go on a wonderful holiday leaving on day number 3 (a Wednesday) and you return home after 10 nights. Write a general version of the program which asks for the starting day number, and the length of your stay, and it will tell you the number of day of the week you will return on.\n",
    "\n",
    "\n",
    "\n",
    "\n",
    "Take the sentence: All work and no play makes Jack a dull boy. Store each word in a separate variable, then print out the sentence on one line using print.\n",
    "\n",
    "\n",
    "\n",
    "Add parenthesis to the expression 6 * 1 - 2 to change its value from 4 to -6.\n",
    "\n",
    "\n",
    "\n",
    "The formula for computing the final amount if one is earning compound interest is given on Wikipedia as\n",
    "\n",
    "formula for compound interest\n",
    "Write a Python program that assigns the principal amount of 10000 to variable P, assign to n the value 12, and assign to r the interest rate of 8% (0.08). Then have the program prompt the user for the number of years, t, that the money will be compounded for. Calculate and print the final amount after t years.\n",
    "\n",
    "RunShow FeedbackShow CodeShow CodeLensCode Coach\n",
    "(ex_2_7)\n",
    "Write a program that will compute the area of a circle. Prompt the user to enter the radius and print a nice message back to the user with the answer.\n",
    "RunShow FeedbackShow CodeShow CodeLensCode Coach\n",
    "(ex_2_8)\n",
    "Question\n",
    "Answer\n",
    "Discussion\n",
    "Write a program that will compute the area of a rectangle. Prompt the user to enter the width and height of the rectangle. Print a nice message with the answer.\n",
    "\n",
    "RunShow FeedbackShow CodeShow CodeLensCode Coach\n",
    "(ex_2_9)\n",
    "Write a program that will compute MPG for a car. Prompt the user to enter the number of miles driven and the number of gallons used. Print a nice message with the answer.\n",
    "RunShow FeedbackShow CodeShow CodeLensCode Coach\n",
    "(ex_2_10)\n",
    "Question\n",
    "Answer\n",
    "Discussion\n",
    "Write a program that will convert degrees celsius to degrees fahrenheit.\n",
    "\n",
    "RunShow FeedbackShow CodeShow CodeLensCode Coach\n",
    "(ex_2_11)\n",
    "Write a program that will convert degrees fahrenheit to degrees celsius.\n",
    "RunShow FeedbackShow CodeShow CodeLensCode Coach\n"
   ]
  },
  {
   "cell_type": "code",
   "execution_count": null,
   "metadata": {
    "collapsed": true
   },
   "outputs": [],
   "source": []
  }
 ],
 "metadata": {
  "kernelspec": {
   "display_name": "Python 3",
   "language": "python",
   "name": "python3"
  },
  "language_info": {
   "codemirror_mode": {
    "name": "ipython",
    "version": 3
   },
   "file_extension": ".py",
   "mimetype": "text/x-python",
   "name": "python",
   "nbconvert_exporter": "python",
   "pygments_lexer": "ipython3",
   "version": "3.6.0"
  }
 },
 "nbformat": 4,
 "nbformat_minor": 2
}
