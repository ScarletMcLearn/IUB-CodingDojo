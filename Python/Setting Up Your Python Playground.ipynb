{
 "cells": [
  {
   "cell_type": "markdown",
   "metadata": {},
   "source": [
    "# Welcome Pythonista"
   ]
  },
  {
   "cell_type": "markdown",
   "metadata": {},
   "source": [
    "# Setting Up Your Python Playground"
   ]
  },
  {
   "cell_type": "markdown",
   "metadata": {},
   "source": [
    "## Getting Started\n",
    "\n",
    "### Step One : Downloading Anaconda\n",
    "Download Anaconda with Python 3.6 from [here.](https://www.continuum.io/downloads#windows)\n",
    "\n",
    "### Step Two : Installing It!\n",
    "Install Anaconda using the instructions on [this page](https://docs.continuum.io/anaconda/install-windows)\n",
    "\n",
    "> For Windows (Linux and Mac see the link) :\n",
    "Download the Anaconda installer.\n",
    "> \n",
    "> Optional: Verify data integrity with MD5 or SHA-256. More info on hashes\n",
    "> \n",
    "> Click Run to launch the installer.\n",
    "> \n",
    "> NOTE: If you encounter any issues during installation, temporarily > disable your anti-virus software during install, then re-enable it > after the installation concludes. If you have installed for all \n",
    "> users, uninstall Anaconda and re-install it for your user only and > try again.\n",
    "> \n",
    "> Click Next.\n",
    "> \n",
    "> Read the licensing terms and click I Agree.\n",
    "> \n",
    "> Select an install for “Just Me” unless you’re installing for all   > users (which requires Windows Administrator privileges).\n",
    "> \n",
    "> Select a destination folder to install Anaconda and click Next.\n",
    "> \n",
    "> NOTE: Install Anaconda to a directory path that does not contain \n",
    "> spaces or unicode characters.\n",
    "> \n",
    "> NOTE: Do not install as Administrator unless admin privileges are  > required.\n",
    "> \n",
    "> Choose whether to add Anaconda to your PATH environment variable. > > We recommend not adding Anaconda to the PATH environment variable, since this can interfere with other software. Instead, use Anaconda software by opening Anaconda Navigator or the Anaconda Command Prompt from the Start Menu.\n",
    "> \n",
    "> Choose whether to register Anaconda as your default Python 3.6. Unless you plan on installing and running multiple versions of Anaconda, or multiple versions of Python, you should accept the default and leave this box checked.\n",
    "> \n",
    "Click Install. You can click Show Details if you want to see all the packages Anaconda is installing.\n",
    "> \n",
    "Click Next.\n",
    "> \n",
    "After a successful installation you will see the “Thanks for installing Anaconda” image:\n",
    ">![This\tis\tan\timage](https://docs.continuum.io/_images/anaconda-install-win.png)\n",
    "\n",
    "\n",
    "### Step Three : Starting Anaconda Navigator\n",
    "Launch [Anaconda Navigator](https://docs.continuum.io/anaconda/navigator/getting-started.html)\n",
    "\n",
    ">Starting Navigator\n",
    "When you install Anaconda on Windows, a Navigator menu item is automatically added to your programs menu and an icon is added to your desktop. You can use either to start Navigator.\n",
    ">\n",
    "When you install Anaconda on macOS, a Navigator menu item is automatically added to your programs menu.\n",
    ">\n",
    "On macOS you can start Navigator by clicking the Navigator menu item, or by opening a terminal window and running the command anaconda-navigator.\n",
    ">\n",
    "On Linux you can start Navigator by opening a terminal window and running the command anaconda-navigator.\n",
    ">\n",
    "When you install Anaconda on Linux, Anaconda does not add shortcuts automatically because different Linux distributions have different systems for adding menu or desktop shortcuts. You can use your operating system to create desktop and/or main-menu shortcuts that run the command anaconda-navigator.\n",
    "\n",
    "### Step Four : Take Off!\n",
    "Click the launch button to start your Jupyter Notebook ![](https://docs.continuum.io/_images/navigator-home-1-6.png)"
   ]
  },
  {
   "cell_type": "markdown",
   "metadata": {},
   "source": [
    "## Sanity Check To See If All Went Well\n",
    "\n",
    "### Step One : Launch Your Jupyter Notebook \n",
    "#### Click the New button (top right)\n",
    "#### Click Python 3 (dont worry if you dont have the other Kernels / options available)\n",
    "\n",
    "![](http://arc-ts.umich.edu/wp-content/uploads/sites/4/2016/06/jupyter-dashboard-good.png)\n"
   ]
  },
  {
   "cell_type": "markdown",
   "metadata": {},
   "source": [
    "### Step Two : Test Code\n",
    "#### Click the first cell and type:\n",
    "```python\n",
    "print(\"Pythonista For Life!\")\n",
    "```\n",
    "\n",
    "#### Then click the Play button, or press *Shift+Enter*\n",
    "\n",
    "### Step Three : Success!\n",
    "![](http://compute.sciserver.org/dashboard/Content/img/help/jupyter_notebook.png)\n"
   ]
  },
  {
   "cell_type": "markdown",
   "metadata": {},
   "source": [
    "> If you're facing any problems with installing \n",
    ">> First [Google](www.google.com)!\n",
    ">>> If still persists, then contact [me](www.facebook.com/ratul.shams). :p"
   ]
  },
  {
   "cell_type": "markdown",
   "metadata": {},
   "source": [
    "#### Best Wishes!\n",
    "#### Good Going!\n",
    "#### Happy Coding!"
   ]
  }
 ],
 "metadata": {
  "kernelspec": {
   "display_name": "Python 3",
   "language": "python",
   "name": "python3"
  },
  "language_info": {
   "codemirror_mode": {
    "name": "ipython",
    "version": 3
   },
   "file_extension": ".py",
   "mimetype": "text/x-python",
   "name": "python",
   "nbconvert_exporter": "python",
   "pygments_lexer": "ipython3",
   "version": "3.5.2"
  }
 },
 "nbformat": 4,
 "nbformat_minor": 2
}
